{
 "cells": [
  {
   "cell_type": "markdown",
   "metadata": {},
   "source": [
    "#  Risk Limiting Bayesian Audit - Table 3\n",
    "Reproduce \"RLA\" values from Table 3 in [Risk-Limiting Bayesian Polling Audits for Two Candidate Elections]( http://arxiv.org/abs/1902.00999)\n",
    "\n",
    "A few extra small sample sizes are also included, and some extra values are calculated."
   ]
  },
  {
   "cell_type": "code",
   "execution_count": 1,
   "metadata": {},
   "outputs": [],
   "source": [
    "import sys\n",
    "sys.path.insert(0, \"../src\")"
   ]
  },
  {
   "cell_type": "code",
   "execution_count": 2,
   "metadata": {},
   "outputs": [],
   "source": [
    "import numpy as np\n",
    "import scipy\n",
    "from brla import sim"
   ]
  },
  {
   "cell_type": "code",
   "execution_count": 3,
   "metadata": {},
   "outputs": [
    {
     "name": "stdout",
     "output_type": "stream",
     "text": [
      "limit: 0.100, size:    25, k:    19, k/n[j]: 0.7600, e: 0.064446\n",
      "limit: 0.100, size:    50, k:    35, k/n[j]: 0.7000, e: 0.048530\n",
      "limit: 0.100, size:   100, k:    64, k/n[j]: 0.6400, e: 0.072955\n",
      "limit: 0.100, size:   200, k:   120, k/n[j]: 0.6000, e: 0.093002\n",
      "limit: 0.100, size:   400, k:   230, k/n[j]: 0.5750, e: 0.080043\n",
      "limit: 0.100, size:   800, k:   443, k/n[j]: 0.5537, e: 0.096785\n",
      "limit: 0.100, size:  1600, k:   863, k/n[j]: 0.5394, e: 0.094086\n",
      "limit: 0.100, size:  3200, k:  1691, k/n[j]: 0.5284, e: 0.098469\n",
      "limit: 0.100, size:  6400, k:  3331, k/n[j]: 0.5205, e: 0.096779\n",
      "limit: 0.100, size: 12800, k:  6585, k/n[j]: 0.5145, e: 0.094960\n",
      "limit: 0.100, size: 25600, k: 13049, k/n[j]: 0.5097, e: 0.099181\n",
      "limit: 0.100, size: 51200, k: 25897, k/n[j]: 0.5058, e: 0.099823\n",
      "limit: 0.050, size:    25, k:    20, k/n[j]: 0.8000, e: 0.020174\n",
      "limit: 0.050, size:    50, k:    35, k/n[j]: 0.7000, e: 0.048530\n",
      "limit: 0.050, size:   100, k:    65, k/n[j]: 0.6500, e: 0.041693\n",
      "limit: 0.050, size:   200, k:   122, k/n[j]: 0.6100, e: 0.041929\n",
      "limit: 0.050, size:   400, k:   232, k/n[j]: 0.5800, e: 0.044431\n",
      "limit: 0.050, size:   800, k:   447, k/n[j]: 0.5587, e: 0.041323\n",
      "limit: 0.050, size:  1600, k:   868, k/n[j]: 0.5425, e: 0.043166\n",
      "limit: 0.050, size:  3200, k:  1698, k/n[j]: 0.5306, e: 0.044379\n",
      "limit: 0.050, size:  6400, k:  3339, k/n[j]: 0.5217, e: 0.049492\n",
      "limit: 0.050, size: 12800, k:  6596, k/n[j]: 0.5153, e: 0.047166\n",
      "limit: 0.050, size: 25600, k: 13063, k/n[j]: 0.5103, e: 0.049304\n",
      "limit: 0.050, size: 51200, k: 25913, k/n[j]: 0.5061, e: 0.048314\n",
      "limit: 0.005, size:    25, k:    21, k/n[j]: 0.8400, e: 0.004872\n",
      "limit: 0.005, size:    50, k:    38, k/n[j]: 0.7600, e: 0.002734\n",
      "limit: 0.005, size:   100, k:    69, k/n[j]: 0.6900, e: 0.002618\n",
      "limit: 0.005, size:   200, k:   127, k/n[j]: 0.6350, e: 0.003600\n",
      "limit: 0.005, size:   400, k:   239, k/n[j]: 0.5975, e: 0.003742\n",
      "limit: 0.005, size:   800, k:   456, k/n[j]: 0.5700, e: 0.004108\n",
      "limit: 0.005, size:  1600, k:   880, k/n[j]: 0.5500, e: 0.004679\n",
      "limit: 0.005, size:  3200, k:  1715, k/n[j]: 0.5359, e: 0.004450\n",
      "limit: 0.005, size:  6400, k:  3363, k/n[j]: 0.5255, e: 0.004603\n",
      "limit: 0.005, size: 12800, k:  6627, k/n[j]: 0.5177, e: 0.004697\n",
      "limit: 0.005, size: 25600, k: 13103, k/n[j]: 0.5118, e: 0.004788\n",
      "limit: 0.005, size: 51200, k: 25957, k/n[j]: 0.5070, e: 0.004771\n",
      "kmin: [[   19    35    64   120   230   443   863  1691  3331  6585 13049 25897]\n",
      " [   20    35    65   122   232   447   868  1698  3339  6596 13063 25913]\n",
      " [   21    38    69   127   239   456   880  1715  3363  6627 13103 25957]]\n",
      "error: [[0.06444633 0.04853015 0.0729546  0.09300234 0.08004306 0.09678464\n",
      "  0.09408564 0.09846888 0.09677913 0.09495951 0.09918063 0.09982284]\n",
      " [0.02017367 0.04853015 0.04169343 0.04192927 0.04443131 0.04132294\n",
      "  0.04316625 0.0443791  0.0494924  0.04716604 0.049304   0.04831387]\n",
      " [0.00487193 0.00273368 0.00261777 0.00360026 0.00374183 0.00410758\n",
      "  0.00467913 0.00445    0.00460252 0.00469704 0.00478806 0.00477105]]\n",
      "4min 33s ± 0 ns per loop (mean ± std. dev. of 1 run, 1 loop each)\n"
     ]
    }
   ],
   "source": [
    "%%timeit -n 1 -r 1\n",
    "sim.main()"
   ]
  },
  {
   "cell_type": "markdown",
   "metadata": {},
   "source": [
    "Note that the \"kmin:\" section near the end most closely corresponds to Table 3."
   ]
  }
 ],
 "metadata": {
  "kernelspec": {
   "display_name": "Python 3",
   "language": "python",
   "name": "python3"
  },
  "language_info": {
   "codemirror_mode": {
    "name": "ipython",
    "version": 3
   },
   "file_extension": ".py",
   "mimetype": "text/x-python",
   "name": "python",
   "nbconvert_exporter": "python",
   "pygments_lexer": "ipython3",
   "version": "3.7.3"
  }
 },
 "nbformat": 4,
 "nbformat_minor": 2
}
